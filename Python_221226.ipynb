{
 "cells": [
  {
   "cell_type": "markdown",
   "id": "da63bfb5-2be9-49e9-9404-1c25ca0f811b",
   "metadata": {},
   "source": [
    "## 문자열 연산자\n",
    "- 덧셈과 곱셈 활용"
   ]
  },
  {
   "cell_type": "code",
   "execution_count": 2,
   "id": "9f9d2490-8d7a-44a4-936e-ce2290b98f07",
   "metadata": {},
   "outputs": [
    {
     "name": "stdout",
     "output_type": "stream",
     "text": [
      "Hello\n",
      "World\n"
     ]
    }
   ],
   "source": [
    "a = 'Hello'\n",
    "b = 'World'\n",
    "\n",
    "print(a)\n",
    "print(b)"
   ]
  },
  {
   "cell_type": "code",
   "execution_count": 5,
   "id": "90ba3596-c21d-4ea8-b27a-3bfa5c68d302",
   "metadata": {},
   "outputs": [
    {
     "name": "stdout",
     "output_type": "stream",
     "text": [
      "HelloWorld\n",
      "HelloWorldHelloWorldHelloWorld\n"
     ]
    }
   ],
   "source": [
    "c = a + b\n",
    "print(c)\n",
    "print(c * 3)"
   ]
  },
  {
   "cell_type": "markdown",
   "id": "ae083867-5fb3-45f2-b076-607a6cd054d6",
   "metadata": {},
   "source": [
    "## 인덱싱 (Indexing)\n",
    "- 문자열 범위 지정 및 추출"
   ]
  },
  {
   "cell_type": "code",
   "execution_count": 10,
   "id": "2ab3d2d0-d198-491b-b26e-692a152a6503",
   "metadata": {},
   "outputs": [
    {
     "name": "stdout",
     "output_type": "stream",
     "text": [
      "H\n",
      "l\n",
      "!\n",
      "d\n"
     ]
    }
   ],
   "source": [
    "greeting = 'Hello World!'\n",
    "\n",
    "print(greeting[0])\n",
    "print(greeting[3])\n",
    "print(greeting[-1])\n",
    "print(greeting[10])"
   ]
  },
  {
   "cell_type": "markdown",
   "id": "10ca0834-9229-4263-adec-18b8d7143fd4",
   "metadata": {},
   "source": [
    "## 슬라이싱\n",
    "- 주피터 노트북에서 마크다운으로 변환 / 마크다운으로 코드셀로 변환 단축키"
   ]
  },
  {
   "cell_type": "code",
   "execution_count": 19,
   "id": "e6415bbc-6aaa-4ca3-8127-c2a6e96c29b9",
   "metadata": {},
   "outputs": [
    {
     "name": "stdout",
     "output_type": "stream",
     "text": [
      "Hello World!\n",
      "Hello\n",
      "o World!\n",
      "Hello Wo\n",
      "Hello\n",
      "el ol!\n",
      "HloWrd\n",
      "Hl\n"
     ]
    }
   ],
   "source": [
    "greeting = 'Hello World!'\n",
    "\n",
    "print(greeting[:])  # 슬라이싱 [:] 전체를 가져오는 문법\n",
    "print(greeting[0:5])\n",
    "print(greeting[4:])\n",
    "print(greeting[:8])\n",
    "print(greeting[0:5])\n",
    "print(greeting[1::2])\n",
    "print(greeting[::2])\n",
    "print(greeting[0:5:3])"
   ]
  },
  {
   "cell_type": "markdown",
   "id": "bc241f06-43f7-4176-a8b2-4e998aab5721",
   "metadata": {},
   "source": [
    "## 리스트\n",
    "- 가장 기본적인 배열 자료형(?) / ArrayList\n",
    "- 시퀀스 데이터 : 데이터에 순서가 존재함"
   ]
  },
  {
   "cell_type": "code",
   "execution_count": 24,
   "id": "32e627ad-25a4-4c79-9053-4325a1502d1f",
   "metadata": {},
   "outputs": [
    {
     "name": "stdout",
     "output_type": "stream",
     "text": [
      "[]\n",
      "<class 'list'>\n",
      "---------------------------------\n",
      "[]\n",
      "<class 'list'>\n"
     ]
    }
   ],
   "source": [
    "a = [] # 값이 비어있는 리스트\n",
    "a_list_func = list() # 값이 비어있는 리스트\n",
    "\n",
    "print(a)\n",
    "print(type(a))\n",
    "print(\"---------------------------------\")\n",
    "print(a_list_func)\n",
    "print(type(a_list_func))\n",
    "\n"
   ]
  },
  {
   "cell_type": "markdown",
   "id": "ca5314a9-534b-45cb-b835-0f850ddf786b",
   "metadata": {},
   "source": [
    "- 값을 추가한다."
   ]
  },
  {
   "cell_type": "code",
   "execution_count": 80,
   "id": "5e407fe5-1330-4260-8862-e52e10c42948",
   "metadata": {},
   "outputs": [
    {
     "name": "stdout",
     "output_type": "stream",
     "text": [
      "[1, 2, 3, 4, 5, 6, 7, 8]\n",
      "[1, 2, 3, 4, 5, 6, 7, 8, ['apple', 'banana', 'carrot'], 'humanedu']\n",
      "1\n",
      "[1, 3, 5, 7, ['apple', 'banana', 'carrot']]\n"
     ]
    }
   ],
   "source": [
    "a = [1,2,3,4,5,6,7,8]\n",
    "print(a)\n",
    "\n",
    "a = [1,2,3,4,5,6,7,8, ['apple', 'banana', 'carrot'], 'humanedu']\n",
    "\n",
    "print(a)\n",
    "print(a[0])\n",
    "print(a[:9:2])  # 처음부터 9번째 전까지(index가8) 값을 2개씩 끊어 값을 가져오겠다.  "
   ]
  },
  {
   "cell_type": "markdown",
   "id": "8a460d86-5a48-47d6-a94f-fcb474c8361c",
   "metadata": {},
   "source": [
    "- a 리스트 안에 있는 banana 문자열에서 맨 마지막 글자 a를 추출한다.\n",
    "- 중첩 리스트 : list안에 또다른 list가 존재함."
   ]
  },
  {
   "cell_type": "code",
   "execution_count": 63,
   "id": "cacc1219-3864-45ea-a521-332137d5931e",
   "metadata": {},
   "outputs": [
    {
     "name": "stdout",
     "output_type": "stream",
     "text": [
      "a\n"
     ]
    }
   ],
   "source": [
    "b = a[8]\n",
    "c = b[1]\n",
    "print(c[-1])"
   ]
  },
  {
   "cell_type": "code",
   "execution_count": 64,
   "id": "49008fa1-9fdf-448e-a9cc-048cd16ccc37",
   "metadata": {},
   "outputs": [
    {
     "name": "stdout",
     "output_type": "stream",
     "text": [
      "a\n"
     ]
    }
   ],
   "source": [
    "b = a[8][1][-1]\n",
    "print(b)"
   ]
  },
  {
   "cell_type": "markdown",
   "id": "036faaa8-c679-43ba-96de-fb55e1132b0a",
   "metadata": {},
   "source": [
    "- a 리스트 안에 있는 carriot 문자열에서 맨 마지막 글자 o를 추출한다."
   ]
  },
  {
   "cell_type": "code",
   "execution_count": 69,
   "id": "d15319d4-8f47-400a-984b-c44e58c7070f",
   "metadata": {},
   "outputs": [
    {
     "name": "stdout",
     "output_type": "stream",
     "text": [
      "o\n"
     ]
    }
   ],
   "source": [
    "b = a[8][2][4]\n",
    "# 또는 b = a[8][2][-2]\n",
    "\n",
    "print(b)"
   ]
  },
  {
   "cell_type": "markdown",
   "id": "04ed380d-fe53-482c-97aa-5c4338968a14",
   "metadata": {},
   "source": [
    "- a 리스트 안에 있는 humandeu 문자열에서 맨 마지막 글자 u를 추출한다."
   ]
  },
  {
   "cell_type": "code",
   "execution_count": 81,
   "id": "f5baafc5-ee66-435f-b695-f9c60d259d57",
   "metadata": {},
   "outputs": [
    {
     "name": "stdout",
     "output_type": "stream",
     "text": [
      "u\n"
     ]
    }
   ],
   "source": [
    "b = a[9]\n",
    "c = b[1]\n",
    "print(c)\n",
    "# 또는  b = a[9][1]\n",
    "# print(b)"
   ]
  },
  {
   "cell_type": "markdown",
   "id": "e6e65ba3-b9bc-49e5-be59-315681276578",
   "metadata": {
    "tags": []
   },
   "source": [
    "## 리스트 연산자\n",
    "- 덧셈, 곱셈 적용 후 결과 확인"
   ]
  },
  {
   "cell_type": "code",
   "execution_count": 86,
   "id": "01d7d32b-f634-4a66-bd3e-9ddd58462fcf",
   "metadata": {},
   "outputs": [
    {
     "name": "stdout",
     "output_type": "stream",
     "text": [
      "[1, 2, 3, 4, 5, 6]\n"
     ]
    }
   ],
   "source": [
    "a = [1,2,3]\n",
    "b = [4,5,6]\n",
    "\n",
    "print(a+b)"
   ]
  },
  {
   "cell_type": "code",
   "execution_count": 87,
   "id": "4b0b4921-52e9-4205-ae7a-db78a6e7ee39",
   "metadata": {},
   "outputs": [
    {
     "name": "stdout",
     "output_type": "stream",
     "text": [
      "[1, 2, 3, 1, 2, 3, 1, 2, 3]\n"
     ]
    }
   ],
   "source": [
    "a = [1,2,3]\n",
    "\n",
    "print(a * 3)"
   ]
  },
  {
   "cell_type": "markdown",
   "id": "bcb404c4-7681-4edf-bbc0-03c27c3c02cd",
   "metadata": {},
   "source": [
    "## 리스트 값 수정하기\n",
    "- 리스트 내 원소의 값을 수정한다."
   ]
  },
  {
   "cell_type": "code",
   "execution_count": 88,
   "id": "2ed617dc-fb23-486a-89d9-7ec82fdce2a0",
   "metadata": {},
   "outputs": [
    {
     "name": "stdout",
     "output_type": "stream",
     "text": [
      "['a', 'a', 'a', 'a']\n"
     ]
    }
   ],
   "source": [
    "a = ['a', 'b', 'a', 'a']\n",
    "a[1] = 'a'\n",
    "print(a)"
   ]
  },
  {
   "cell_type": "markdown",
   "id": "c17fa919-96ee-4fbf-9216-ed432894bcd2",
   "metadata": {},
   "source": [
    "## 리스트 클래스 내부의 여러 함수\n",
    "- 참조 : https://docs.python.org/3/tutorial/datastructures.html"
   ]
  }
 ],
 "metadata": {
  "kernelspec": {
   "display_name": "Python 3 (ipykernel)",
   "language": "python",
   "name": "python3"
  },
  "language_info": {
   "codemirror_mode": {
    "name": "ipython",
    "version": 3
   },
   "file_extension": ".py",
   "mimetype": "text/x-python",
   "name": "python",
   "nbconvert_exporter": "python",
   "pygments_lexer": "ipython3",
   "version": "3.11.1"
  }
 },
 "nbformat": 4,
 "nbformat_minor": 5
}
