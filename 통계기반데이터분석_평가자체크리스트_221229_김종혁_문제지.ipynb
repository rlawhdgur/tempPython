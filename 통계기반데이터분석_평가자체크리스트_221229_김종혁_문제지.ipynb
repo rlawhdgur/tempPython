{
 "cells": [
  {
   "cell_type": "markdown",
   "metadata": {
    "id": "JNWYpAwumqzm"
   },
   "source": [
    "# 평가자 리스트 개요\n",
    "- 강의명 : Python(파이썬), JAVA(자바)기반 AI활용 소프트웨어 개발 및 응용 과정\n",
    "- 교과목명 : 통계기반 데이터 분석\n",
    "- 평가주제 : 빅데이터 모델 개발하기\n",
    "- 능력단위요소 : 빅데이터 모델 개발하기\n",
    "- 관련 수행준거\n",
    "  + 2.3 모델에 적용하는 독립변수와 종속변수의 데이터 유형에 따라 다양한 분석기법을 적용할 수 있다.\n",
    "  + 2.5 단일 분석기법이 아닌 앙상블(Ensemble) 기법을 적용하여 모델의 품질목표를 제고할 수 있다\n",
    "- 평가일 : 2022년 12월 29일 목요일\n",
    "- 수강생명 : 김종혁\n"
   ]
  },
  {
   "cell_type": "markdown",
   "metadata": {
    "id": "RErN_w_ZnbH-"
   },
   "source": [
    "# 평가 문항 5\n",
    "- 아래 코드는 머신러닝 분류 모델을 개발하는 코드이다. 빈칸에 알맞은 코드를 입력한다. \n",
    "- 코드 작성은 `.ipynb`에서 작성하여 `html` 파일로 변환하여 제출한다. \n"
   ]
  },
  {
   "cell_type": "markdown",
   "metadata": {
    "id": "o75TtHNrn0Bd"
   },
   "source": [
    "## 데이터 셋 준비\n",
    "- 물고기 데이터가 아래와 같이 준비가 되어 있다. "
   ]
  },
  {
   "cell_type": "code",
   "execution_count": 7,
   "metadata": {
    "executionInfo": {
     "elapsed": 302,
     "status": "ok",
     "timestamp": 1672274795455,
     "user": {
      "displayName": "김종혁",
      "userId": "08206813005478235187"
     },
     "user_tz": -540
    },
    "id": "zy2G2wahmYEX"
   },
   "outputs": [],
   "source": [
    "fish_length = [25.4, 26.3, 26.5, 29.0, 29.0, 29.7, 29.7, 30.0, 30.0, 30.7, 31.0, 31.0, \n",
    "                31.5, 32.0, 32.0, 32.0, 33.0, 33.0, 33.5, 33.5, 34.0, 34.0, 34.5, 35.0, \n",
    "                35.0, 35.0, 35.0, 36.0, 36.0, 37.0, 38.5, 38.5, 39.5, 41.0, 41.0, 9.8, \n",
    "                10.5, 10.6, 11.0, 11.2, 11.3, 11.8, 11.8, 12.0, 12.2, 12.4, 13.0, 14.3, 15.0]\n",
    "fish_weight = [242.0, 290.0, 340.0, 363.0, 430.0, 450.0, 500.0, 390.0, 450.0, 500.0, 475.0, 500.0, \n",
    "                500.0, 340.0, 600.0, 600.0, 700.0, 700.0, 610.0, 650.0, 575.0, 685.0, 620.0, 680.0, \n",
    "                700.0, 725.0, 720.0, 714.0, 850.0, 1000.0, 920.0, 955.0, 925.0, 975.0, 950.0, 6.7, \n",
    "                7.5, 7.0, 9.7, 9.8, 8.7, 10.0, 9.9, 9.8, 12.2, 13.4, 12.2, 19.7, 19.9]"
   ]
  },
  {
   "cell_type": "markdown",
   "metadata": {
    "id": "Y8roDFERoJUt"
   },
   "source": [
    "## 데이터 가공\n",
    "-  fish_length와 fish_weight 데이터를 합친다. \n",
    "- 타겟 데이터를 생성한다. \n",
    "- numpy 라이브러리를 활용한다. "
   ]
  },
  {
   "cell_type": "code",
   "execution_count": 11,
   "metadata": {
    "executionInfo": {
     "elapsed": 7,
     "status": "ok",
     "timestamp": 1672274926596,
     "user": {
      "displayName": "김종혁",
      "userId": "08206813005478235187"
     },
     "user_tz": -540
    },
    "id": "WI84Bg6toNJP"
   },
   "outputs": [],
   "source": [
    "# Q1. NumPy 라이브러리를 불러온다 [5]\n",
    "# 코드 작성\n",
    "import numpy as np\n",
    "\n",
    "fish_data = np.column_stack((fish_length, fish_weight))\n",
    "fish_target = np.concatenate((np.ones(35), np.zeros(14)))"
   ]
  },
  {
   "cell_type": "markdown",
   "metadata": {
    "id": "2AV7flovp-b-"
   },
   "source": [
    "- 0은 도미를 의미하고, 1은 빙어를 의미한다. "
   ]
  },
  {
   "cell_type": "markdown",
   "metadata": {
    "id": "nGVuSNqXo-IN"
   },
   "source": [
    "## 훈련 세트와 테스트 세트 나누기\n",
    "- scikit-learn 라이브러리를 불러온다. \n",
    "- 훈련 데이터와 테스트 데이터로 분리한다. "
   ]
  },
  {
   "cell_type": "code",
   "execution_count": 9,
   "metadata": {
    "executionInfo": {
     "elapsed": 304,
     "status": "ok",
     "timestamp": 1672274818844,
     "user": {
      "displayName": "김종혁",
      "userId": "08206813005478235187"
     },
     "user_tz": -540
    },
    "id": "9FcKUS09pEx3"
   },
   "outputs": [],
   "source": [
    "# Q2. Scikit-Learn라이브러리와 훈련세트 및 테스트 세트를 나누기 위한 함수를 불러온다 [5]\n",
    "# 코드 작성\n",
    "from sklearn.model_selection import train_test_split\n",
    "\n",
    "# Q3. 훈련세트 및 테스트 세트를 나누는 코드를 작성한다. [5]\n",
    "# 코드 작성\n",
    "train_input, test_input, train_target, test_target = train_test_split(\n",
    "    fish_data, fish_target, random_state=42)"
   ]
  },
  {
   "cell_type": "markdown",
   "metadata": {
    "id": "TAGk8Ml8pZ3n"
   },
   "source": [
    "## KNN 알고리즘 구현\n",
    "- KNN 알고리즘을 불러와서 모형을 생성한다. "
   ]
  },
  {
   "cell_type": "code",
   "execution_count": 13,
   "metadata": {
    "colab": {
     "base_uri": "https://localhost:8080/"
    },
    "executionInfo": {
     "elapsed": 328,
     "status": "ok",
     "timestamp": 1672275465530,
     "user": {
      "displayName": "김종혁",
      "userId": "08206813005478235187"
     },
     "user_tz": -540
    },
    "id": "-ZeNpny2pipv",
    "outputId": "ade8eed5-6318-4f21-935c-cafa14f585b1"
   },
   "outputs": [
    {
     "data": {
      "text/plain": [
       "1.0"
      ]
     },
     "execution_count": 13,
     "metadata": {},
     "output_type": "execute_result"
    }
   ],
   "source": [
    "from sklearn.neighbors import KNeighborsClassifier\n",
    "\n",
    "# Q4. KNN 알고리즘을 구현하는 코드를 작성하고, 실제 정확도 점수를 산출한다. [5] \n",
    "# 코드 작성\n",
    "kn = KNeighborsClassifier()\n",
    "kn.fit(train_input, train_target)\n",
    "kn.score(test_input, test_target)"
   ]
  },
  {
   "cell_type": "markdown",
   "metadata": {
    "id": "qSrqLuhwpv5W"
   },
   "source": [
    "## 모델 예측\n",
    "- 길이는 25, 무게는 150인 물고기를 예측해서 0인지, 1인지 판별하는 코드를 작성한다. \n",
    "- 결과는 상관없다. "
   ]
  },
  {
   "cell_type": "code",
   "execution_count": 23,
   "metadata": {
    "colab": {
     "base_uri": "https://localhost:8080/"
    },
    "executionInfo": {
     "elapsed": 15,
     "status": "ok",
     "timestamp": 1672277241102,
     "user": {
      "displayName": "김종혁",
      "userId": "08206813005478235187"
     },
     "user_tz": -540
    },
    "id": "l1kTdbeepuf_",
    "outputId": "e5c1dffc-55c3-4aca-8f30-b86843bf46d5"
   },
   "outputs": [
    {
     "name": "stdout",
     "output_type": "stream",
     "text": [
      "[0.]\n"
     ]
    }
   ],
   "source": [
    "# Q5. 생성된 모형을 활용하여 예측 데이터를 입력 후 결과를 산출한다. [5]\n",
    "# 코드 작성\n",
    "print(kn.predict([[25, 150]]))"
   ]
  },
  {
   "cell_type": "markdown",
   "metadata": {
    "id": "xCH0W3dlqbD_"
   },
   "source": [
    "# 평가 문항 6\n",
    "- 아래 코드는 머신러닝 회귀 모델을 개발하는 코드이다. 빈칸에 알맞은 코드를 입력한다. \n",
    "- 코드 작성은 `.ipynb`에서 작성하여 `html` 파일로 변환하여 제출한다. "
   ]
  },
  {
   "cell_type": "markdown",
   "metadata": {
    "id": "LLz_Vn32qqkO"
   },
   "source": [
    "## 농어 데이터 확인\n",
    "- 농어 데이터를 머신러닝 훈련을 위한 두개의 리스트가 있다. 이를 배열로 변환한다. "
   ]
  },
  {
   "cell_type": "code",
   "execution_count": 17,
   "metadata": {
    "executionInfo": {
     "elapsed": 322,
     "status": "ok",
     "timestamp": 1672275575063,
     "user": {
      "displayName": "김종혁",
      "userId": "08206813005478235187"
     },
     "user_tz": -540
    },
    "id": "RcmqWrr-qc7P"
   },
   "outputs": [],
   "source": [
    "import numpy as np\n",
    "length_list = [8.4, 13.7, 15.0, 16.2, 17.4, 18.0, 18.7, 19.0, 19.6, 20.0, \n",
    "     21.0, 21.0, 21.0, 21.3, 22.0, 22.0, 22.0, 22.0, 22.0, 22.5, \n",
    "     22.5, 22.7, 23.0, 23.5, 24.0, 24.0, 24.6, 25.0, 25.6, 26.5, \n",
    "     27.3, 27.5, 27.5, 27.5, 28.0, 28.7, 30.0, 32.8, 34.5, 35.0, \n",
    "     36.5, 36.0, 37.0, 37.0, 39.0, 39.0, 39.0, 40.0, 40.0, 40.0, \n",
    "     40.0, 42.0, 43.0, 43.0, 43.5, 44.0]\n",
    "\n",
    "weight_list = [5.9, 32.0, 40.0, 51.5, 70.0, 100.0, 78.0, 80.0, 85.0, 85.0, \n",
    "     110.0, 115.0, 125.0, 130.0, 120.0, 120.0, 130.0, 135.0, 110.0, \n",
    "     130.0, 150.0, 145.0, 150.0, 170.0, 225.0, 145.0, 188.0, 180.0, \n",
    "     197.0, 218.0, 300.0, 260.0, 265.0, 250.0, 250.0, 300.0, 320.0, \n",
    "     514.0, 556.0, 840.0, 685.0, 700.0, 700.0, 690.0, 900.0, 650.0, \n",
    "     820.0, 850.0, 900.0, 1015.0, 820.0, 1100.0, 1000.0, 1100.0, \n",
    "     1000.0, 1000.0]\n",
    "\n",
    "# Q1. 리스트에서 배열로 변환하는 작성하는 코드를 작성한다. [5]\n",
    "# 코드 작성\n",
    "length_list_array = np.array(length_list)\n",
    "weight_list_array = np.array(weight_list)"
   ]
  },
  {
   "cell_type": "markdown",
   "metadata": {
    "id": "kbKSG91QrPvG"
   },
   "source": [
    "## 훈련데이터 및 테스트 데이터 분리\n",
    "- 훈련세트와 테스트세트를 분리하는 코드를 작성한다. "
   ]
  },
  {
   "cell_type": "code",
   "execution_count": 19,
   "metadata": {
    "executionInfo": {
     "elapsed": 319,
     "status": "ok",
     "timestamp": 1672275654996,
     "user": {
      "displayName": "김종혁",
      "userId": "08206813005478235187"
     },
     "user_tz": -540
    },
    "id": "88_fNzUlrPDP"
   },
   "outputs": [],
   "source": [
    "from sklearn.model_selection import train_test_split\n",
    "\n",
    "# Q2. 훈련세트 및 테스트 세트를 나누는 코드를 작성한다. [5]\n",
    "# 코드 작성\n",
    "train_input, test_input, train_target, test_target = train_test_split(\n",
    "    length_list_array, weight_list_array, random_state=42)\n",
    "\n",
    "# Q3. 훈련 세트와 테스트 세트를 2차원 배열로 바꿉니다. [5]\n",
    "# 코드 작성\n",
    "train_input = train_input.reshape(-1, 1)\n",
    "test_input = test_input.reshape(-1, 1)"
   ]
  },
  {
   "cell_type": "markdown",
   "metadata": {
    "id": "4WM5YNlMrlou"
   },
   "source": [
    "## 선형회귀 모형 개발\n",
    "- 선형회귀 모델 알고리즘을 불러와서 모형을 생성한다. "
   ]
  },
  {
   "cell_type": "code",
   "execution_count": 24,
   "metadata": {
    "executionInfo": {
     "elapsed": 487,
     "status": "ok",
     "timestamp": 1672277682763,
     "user": {
      "displayName": "김종혁",
      "userId": "08206813005478235187"
     },
     "user_tz": -540
    },
    "id": "rqVTOhNfrlEg"
   },
   "outputs": [],
   "source": [
    "# Q4. Scikit-Learn에서 선형회귀 모델을 불러온 후 모형을 적합한다. [5]\n",
    "# 코드 작성\n",
    "\n",
    "\n",
    "# 선형 회귀 모델 훈련\n",
    "# 코드 작성\n"
   ]
  },
  {
   "cell_type": "markdown",
   "metadata": {
    "id": "F4MB49zRsBEn"
   },
   "source": [
    "## 예측 결과 확인\n",
    "- 먼저 길이가 50cm인 농어의 무게를 예측한다. "
   ]
  },
  {
   "cell_type": "code",
   "execution_count": 21,
   "metadata": {
    "colab": {
     "base_uri": "https://localhost:8080/"
    },
    "executionInfo": {
     "elapsed": 311,
     "status": "ok",
     "timestamp": 1672275729337,
     "user": {
      "displayName": "김종혁",
      "userId": "08206813005478235187"
     },
     "user_tz": -540
    },
    "id": "3fI9fMBQsLH_",
    "outputId": "b70e6f5b-63b9-423c-8437-11e158d2da1e"
   },
   "outputs": [
    {
     "name": "stdout",
     "output_type": "stream",
     "text": [
      "[1241.83860323]\n"
     ]
    }
   ],
   "source": [
    "print(lr.predict([[50]]))"
   ]
  },
  {
   "cell_type": "code",
   "execution_count": 22,
   "metadata": {
    "colab": {
     "base_uri": "https://localhost:8080/",
     "height": 279
    },
    "executionInfo": {
     "elapsed": 392,
     "status": "ok",
     "timestamp": 1672275774867,
     "user": {
      "displayName": "김종혁",
      "userId": "08206813005478235187"
     },
     "user_tz": -540
    },
    "id": "FGT9_-1ysQ-P",
    "outputId": "66942d49-4515-437f-896f-39e793aac463"
   },
   "outputs": [
    {
     "data": {
      "image/png": "[encoded data removed]",
      "text/plain": [
       "<Figure size 432x288 with 1 Axes>"
      ]
     },
     "metadata": {
      "needs_background": "light"
     },
     "output_type": "display_data"
    }
   ],
   "source": [
    "# Q5. 예측된 값을 matplotlib에 기존 훈련 데이터와 함께 그래프로 표시를 하도록 한다. [5]\n",
    "import matplotlib.pyplot as plt\n",
    "\n",
    "# 훈련 세트의 산점도를 그립니다\n",
    "# 코드 작성\n",
    "\n",
    "# 50cm 농어 데이터\n",
    "# 코드 작성\n",
    "\n",
    "plt.xlabel('length')\n",
    "plt.ylabel('weight')\n",
    "plt.show()"
   ]
  },
  {
   "cell_type": "code",
   "execution_count": null,
   "metadata": {
    "id": "WQUVwF31r2dw"
   },
   "outputs": [],
   "source": []
  }
 ],
 "metadata": {
  "colab": {
   "provenance": []
  },
  "kernelspec": {
   "display_name": "Python 3 (ipykernel)",
   "language": "python",
   "name": "python3"
  },
  "language_info": {
   "codemirror_mode": {
    "name": "ipython",
    "version": 3
   },
   "file_extension": ".py",
   "mimetype": "text/x-python",
   "name": "python",
   "nbconvert_exporter": "python",
   "pygments_lexer": "ipython3",
   "version": "3.11.1"
  }
 },
 "nbformat": 4,
 "nbformat_minor": 4
}
